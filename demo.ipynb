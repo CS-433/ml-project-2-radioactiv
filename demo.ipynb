{
 "cells": [
  {
   "cell_type": "code",
   "execution_count": 1,
   "metadata": {},
   "outputs": [
    {
     "name": "stdout",
     "output_type": "stream",
     "text": [
      "Creating TeX file...\n",
      "Converting TeX to PDF...\n",
      "Converting cropped PDF to PNG...\n",
      "PNG created successfully: document.png\n"
     ]
    }
   ],
   "source": [
    "import os\n",
    "import subprocess\n",
    "\n",
    "def create_tex_file(tex_content, filename=\"document.tex\"):\n",
    "    \"\"\"Create a .tex file with the given content.\"\"\"\n",
    "    with open(filename, \"w\", encoding=\"utf-8\") as tex_file:\n",
    "        tex_file.write(tex_content)\n",
    "\n",
    "def run_command(command):\n",
    "    \"\"\"Run a shell command with error handling.\"\"\"\n",
    "    try:\n",
    "        subprocess.run(command, shell=True, check=True, capture_output=True, text=True)\n",
    "    except subprocess.CalledProcessError as e:\n",
    "        print(f\"Error executing command: {command}\")\n",
    "        print(e.stderr)\n",
    "        exit(1)\n",
    "\n",
    "def convert_tex_to_png(tex_content, output_png=\"document.png\"):\n",
    "    \"\"\"Convert TeX content to a PNG file.\"\"\"\n",
    "    tex_filename = \"document.tex\"\n",
    "    pdf_filename = \"document.pdf\"\n",
    "    cropped_pdf = \"document-cropped.pdf\"\n",
    "\n",
    "    print(\"Creating TeX file...\")\n",
    "    create_tex_file(tex_content, tex_filename)\n",
    "\n",
    "    print(\"Converting TeX to PDF...\")\n",
    "    run_command(f\"xelatex -interaction=nonstopmode -no-pdf {tex_filename}\")\n",
    "    run_command(f\"xelatex -interaction=nonstopmode {tex_filename}\")\n",
    "\n",
    "    if not os.path.exists(pdf_filename):\n",
    "        print(\"PDF was not created successfully.\")\n",
    "        return\n",
    "\n",
    "    # print(\"Cropping the PDF...\")\n",
    "    # run_command(f\"pdfcrop {pdf_filename} {cropped_pdf}\")\n",
    "\n",
    "    print(\"Converting cropped PDF to PNG...\")\n",
    "    run_command(f\"pdftoppm {pdf_filename} -png -singlefile document\")\n",
    "    os.rename(\"document.png\", output_png)\n",
    "\n",
    "    print(f\"PNG created successfully: {output_png}\")\n",
    "\n",
    "tex_content = r\"\"\"\n",
    "\\documentclass{article}\n",
    "\\usepackage{fontspec}\n",
    "\\usepackage{amsmath}\n",
    "\\usepackage{mathspec}\n",
    "\\usepackage[paperheight=5in,paperwidth=6in,margin=0.1in]{geometry}\n",
    "\n",
    "\\setmainfont{JaneAusten}\n",
    "\\setmathsfont(Digits,Latin){JaneAusten}\n",
    "\n",
    "\\begin{document}\n",
    "\\large Testing the Jane Austen font with mathematics\n",
    "\n",
    "Here is some text in Jane Austen font, followed by a mathematical equation:\n",
    "\n",
    "Let's try a simpler equation first:\n",
    "\n",
    "\\[ a + b = c \\]\n",
    "\n",
    "And a slightly more complex one:\n",
    "\n",
    "\\[ y = 2x + 5 \\]\n",
    "\n",
    "Some text math: $E = mc^2$\n",
    "\n",
    "And here is more text with numbers and letters:\n",
    "\n",
    "ABCDEFGHIJKLMNOPQRSTUVWXYZ\\\\\n",
    "abcdefghijklmnopqrstuvwxyz\\\\\n",
    "\\[\n",
    "y = \\frac{\\sqrt{x^3 + 4x^2}}{2x + 5} + \\sqrt{\\frac{3x^2 + 7}{x + 1}}\n",
    "\\]\n",
    "1234567890 \n",
    "\\end{document}\n",
    "\"\"\"\n",
    "\n",
    "convert_tex_to_png(tex_content)\n"
   ]
  },
  {
   "cell_type": "code",
   "execution_count": null,
   "metadata": {},
   "outputs": [
    {
     "name": "stdout",
     "output_type": "stream",
     "text": [
      "Generated  0\n"
     ]
    }
   ],
   "source": [
    "import openai\n",
    "\n",
    "font = \"JaneAusten\"\n",
    "iterations = 3\n",
    "client = openai.Client(api_key=\"sk-rc-gNqk64G9aEO7nnxOEnpvmw\", base_url=\"https://fmapi.swissai.cscs.ch\")\n",
    "\n",
    "\n",
    "header = r\"\"\"\n",
    "You have to start your answer with the following structure for the latex font :\n",
    "\\documentclass{article}\n",
    "\\usepackage{fontspec}\n",
    "\\usepackage{amsmath}\n",
    "\\usepackage{mathspec}\n",
    "\\usepackage[paperwidth=6in,margin=0.1in]{geometry}\n",
    "\n",
    "\\setmainfont{%s}\n",
    "\\setmathsfont(Digits,Latin){%s}\n",
    "\n",
    "\\begin{document}\n",
    "\n",
    "\"\"\" % (font, font)\n",
    "\n",
    "for i in range(1, iterations + 1):\n",
    "\n",
    "    question = \"Answer only in latex format : give an example of a student solution to a math exercise number %s with hard equations involving sqrt and power and a text explanation. the answer should be %s\"% (i, i)\n",
    "\n",
    "    request = question + header\n",
    "    res = client.chat.completions.create(\n",
    "        model=\"meta-llama/Meta-Llama-3.1-70B-Instruct\",\n",
    "        messages=[\n",
    "            {\n",
    "                \"content\": request, \n",
    "                \"role\": \"user\",\n",
    "            }\n",
    "        ],\n",
    "        stream=True,\n",
    "    )\n",
    "\n",
    "    answer = r\"\"\"\"\"\"\n",
    "    for chunk in res:\n",
    "        if len(chunk.choices) > 0 and chunk.choices[0].delta.content:\n",
    "            answer += chunk.choices[0].delta.content\n",
    "\n",
    "    answer = answer[answer.find('\\\\'):]\n",
    "    with open(f'generated_data/txt/answer_{i}.txt', 'w') as f:\n",
    "        f.write(answer)\n",
    "    \n",
    "    print(\"Generated \", i)"
   ]
  },
  {
   "cell_type": "code",
   "execution_count": 14,
   "metadata": {},
   "outputs": [
    {
     "name": "stdout",
     "output_type": "stream",
     "text": [
      "Creating TeX file...\n",
      "Converting TeX to PDF...\n",
      "Converting cropped PDF to PNG...\n",
      "PNG created successfully: document.png\n"
     ]
    }
   ],
   "source": [
    "with open('generated_data/txt/answer_0.txt', 'r') as file:\n",
    "    answer_1 = file.read()\n",
    "\n",
    "\n",
    "convert_tex_to_png(answer_1)\n"
   ]
  },
  {
   "cell_type": "code",
   "execution_count": null,
   "metadata": {},
   "outputs": [],
   "source": []
  }
 ],
 "metadata": {
  "kernelspec": {
   "display_name": "ada",
   "language": "python",
   "name": "python3"
  },
  "language_info": {
   "codemirror_mode": {
    "name": "ipython",
    "version": 3
   },
   "file_extension": ".py",
   "mimetype": "text/x-python",
   "name": "python",
   "nbconvert_exporter": "python",
   "pygments_lexer": "ipython3",
   "version": "3.11.9"
  }
 },
 "nbformat": 4,
 "nbformat_minor": 2
}
